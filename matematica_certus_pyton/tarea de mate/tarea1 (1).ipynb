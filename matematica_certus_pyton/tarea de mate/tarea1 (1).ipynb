{
  "metadata": {
    "language_info": {
      "codemirror_mode": {
        "name": "python",
        "version": 3
      },
      "file_extension": ".py",
      "mimetype": "text/x-python",
      "name": "python",
      "nbconvert_exporter": "python",
      "pygments_lexer": "ipython3",
      "version": "3.8"
    },
    "kernelspec": {
      "name": "python",
      "display_name": "Python (Pyodide)",
      "language": "python"
    }
  },
  "nbformat_minor": 4,
  "nbformat": 4,
  "cells": [
    {
      "cell_type": "markdown",
      "source": "# MOM GO\n\nLas mamas siempre se quejan que el dia es muy corto para todas las cosas que ellas tienen que hacer o simplemente mama no es buena al medir los tiempos y a veces mama se le olvida anotar en su agenda algunos eventos.Ya no mas porque llego **MoM go** es una aplicacion movil facil y sencilla de usar, que ayuda a las mamas a organizar, agendar y mide tiempos es decir ayuda a las mamas a organizar su dia dia. \n\n### Sistema de MOM GO\n**MOM GO** tiene un sistema operativo Android que tiene un kernel, una interfaz de usario, administrador de memoria, una ejecucion de programas, seguridad, almacenamiento y una interfaz de programacion de aplicacion, es decir tendra una funcionalidad amplia funcionalidad en el sistema movil.\n\n### funcionalidades de MOM GO\nTiene estas funciones:\n* Una agenda personalizasa donde tiene varios botones para trareas del hogar, recorger a los niños, llegada de esposo, etc. *\n* agenda fechas importantes en el calendario del movil y de google por medio una funcion que da servicios que permite con solo presionar mensajes o subrayar ciertas fechas. *\n* MOM GO puede ayudarte a medir tiempos gracias a un cromometro personalizado y al momento de terminar el tiempo determinado MOM GO manda una notificaion a todos los dispositivos moviles conectados a tu correo para que te notifiquen y nunca mas te pases de hora  *\n* MOM GO tambien tiene una funcion de administracion de gastos del hogar gracias a una excel implementado y ya personalizado para poner solo tus gastos y este avisara si llegas a las justas a fin de mes o tendras que priorizar algunos gastos antes que otros.\n\nEn conclusion MOM GO es una aplicacion dedicada para madres de hogar, trabajadoras y emprendesoras ya que esta ayuda a una mejor orgnizacion, sin nesecidad de llvar una agenda o un papel a todos lados ya que la tecnologia tambien puede ayudar a mama\n\n\nAutora de la idea Nashaliel Duval Castillo\n\n\n",
      "metadata": {
        "tags": [],
        "jp-MarkdownHeadingCollapsed": true
      }
    },
    {
      "cell_type": "markdown",
      "source": "",
      "metadata": {}
    },
    {
      "cell_type": "code",
      "source": "",
      "metadata": {},
      "execution_count": null,
      "outputs": []
    }
  ]
}